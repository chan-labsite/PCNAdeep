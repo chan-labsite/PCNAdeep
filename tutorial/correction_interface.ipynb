{
 "cells": [
  {
   "cell_type": "code",
   "execution_count": 1,
   "id": "63542676",
   "metadata": {},
   "outputs": [],
   "source": [
    "import pandas as pd\n",
    "import os\n",
    "example_root = os.path.join(os.path.dirname(os.path.dirname(os.path.abspath('__file__'))), 'examples')"
   ]
  },
  {
   "cell_type": "markdown",
   "id": "1619c66d",
   "metadata": {},
   "source": [
    "## Manual Correction Interface\n",
    "\n",
    "### Author: Yifan Gui @ Kuan Yoow Chan group\n",
    "\n",
    "pcnaDeep offers a semi-GUI interface for manual correction, which is based on the [Napari project](https://github.com/napari/napari).\n",
    "\n",
    "In this tutorial, we will correct the pcnaDeep output corresponding to the demo data.\n",
    "\n",
    "__Note:__ The interface directly operates on the _tracked object table_ and the _mask_. It is suggested to copy these files before running.  \n",
    "The interface only supports undo to the last saved version."
   ]
  },
  {
   "cell_type": "markdown",
   "id": "6ea37309",
   "metadata": {},
   "source": [
    "### __\\#\\#\\# Before moving on, please check out the demo video [here]()__. \n",
    "\n",
    "Pictures in this tutorial are from Fiji visualisation. Please refer to the demo video in real case."
   ]
  },
  {
   "cell_type": "markdown",
   "id": "e7e24b9b",
   "metadata": {},
   "source": [
    "### 1 Copy the tracked object table (and the mask if necessary)\n",
    "\n",
    "The file `testing/MCF10A_demo_tracks_refined.csv` is alreadied copied as `MCF10A_demo_tracks_refined_corrected.csv`."
   ]
  },
  {
   "cell_type": "markdown",
   "id": "befad150",
   "metadata": {},
   "source": [
    "### 2 Start the interface"
   ]
  },
  {
   "cell_type": "markdown",
   "id": "3b9dab5c",
   "metadata": {},
   "source": [
    "The script `bin/napari_vis.py` takes three commandline parameters:\n",
    "1. `--track`: Tracked object table.\n",
    "2. `--mask`: The object mask.\n",
    "3. `--image`: The composite image of PCNA and bright field (BF) channels (PCNA at the first, BF at the last)\n",
    "\n",
    "#### 2.1 Run the following code under `bin` to start the Napari interface (for demo data).\n",
    "\n",
    "`python vis_napari.py --image MCF10A_demo_comp.tif --mask MCF10A_demo_mask.tif --track MCF10A_demo_tracks_refined.csv`\n",
    "\n",
    "#### 2.2 Enter the correction interface.\n",
    "\n",
    "Type `viewer.doCorrect()` in the console to enter pcnaDeep correction interface.\n",
    "\n",
    "To correct the track, you should use commands as below. The response will be shown on the plot instantly."
   ]
  },
  {
   "cell_type": "markdown",
   "id": "62e3932c",
   "metadata": {},
   "source": [
    "---"
   ]
  },
  {
   "cell_type": "markdown",
   "id": "e2f0dd25",
   "metadata": {},
   "source": [
    "### 3 Correct a mitosis mis-association"
   ]
  },
  {
   "cell_type": "markdown",
   "id": "439f1bce",
   "metadata": {},
   "source": [
    "- __`r -t1 <T1> -t2 <T2> -f <F>`__ Replace the ID of track 1 (T1) with the ID of track 2 (T2) from frame (F).\n",
    "\n",
    "    - __Note__ The new track (T2) should not overlap with the old track (T1).\n",
    "\n",
    "- __`cp -p <P> -d <D>`__ Create new mother-daughter relationship between mother (P) and daughter (D).\n",
    "\n",
    "- __`dp -d <D>`__ Dissociate a daughter (D) from its mother. The program will search for its mother automatically.\n",
    "\n",
    "---"
   ]
  },
  {
   "cell_type": "markdown",
   "id": "73c3dda6",
   "metadata": {},
   "source": [
    "In the upper-right part of `frame 15~17`, there is a mis-associated mitosis event. The `track 43` is not associated with its daughter `track 61`  (_pcnaDeep prohibits mother and daughter co-exist in one frame_), although it is associated with the other daughter `track 96`. To correct this, we do the following two steps.\n",
    "\n",
    "1. Replace `track 43` in `frame 16` with `track 96`. That is `r -t1 43 -t2 96 -f 15`.\n",
    "\n",
    "2. Associate mother with its two daughters. `cp -p 43 -d 96`; `cp -p 43 -d 61` (one command at a time).\n",
    "\n",
    "![corr_m1](assets/corr_m1.png)"
   ]
  },
  {
   "cell_type": "markdown",
   "id": "42ab9e07",
   "metadata": {},
   "source": [
    "__Note:__ By combining `r -t1 -t2 -f` and `c -t`, tracking errors can be corrected."
   ]
  },
  {
   "cell_type": "markdown",
   "id": "f8bd5c68",
   "metadata": {},
   "source": [
    "### 4 Save editing"
   ]
  },
  {
   "cell_type": "markdown",
   "id": "69b4d6c9",
   "metadata": {},
   "source": [
    "Type in __`s`__ for saving the current editing on the object table.\n",
    "\n",
    "Every time you save, two things will be checked:\n",
    "1. Object removal from the mask.\n",
    "2. Object update from the mask (e.g. change the mask shape using brush). \n",
    "\n",
    "Related fields in the _tracked object table_ will be calculated from the pixel level of the composite image.\n",
    "\n",
    "Type __`revert`__ to go back to the last saved version. However, you are not allowed to do other redo operations."
   ]
  },
  {
   "cell_type": "markdown",
   "id": "d5cbd2e9",
   "metadata": {},
   "source": [
    "### 5 Correct a mitosis mis-detection"
   ]
  },
  {
   "cell_type": "markdown",
   "id": "e0aa28b1",
   "metadata": {},
   "source": [
    "- __`c -t <T> -f <F>`__ Create new ID for track (T) from frame (F). \n",
    "---\n",
    "\n",
    "There is another unlinked mitosis event in `frame 124~127`, where the mother `track 29` is not broken.\n",
    "\n",
    "To break the mitosis `track 29`, we create new ID from the cytokinesis `frame 125`.\n",
    "\n",
    "1. Create new ID for `track 29` from `frame 125`. `c -t 29 -f 125`.\n",
    "\n",
    "&emsp;&emsp; The return message indicates that `track 101` is created. We next associate two daughters with their mother.\n",
    "\n",
    "2. `cp -p 29 -d 101`; `cp -p 29 -d 89`.\n",
    "\n",
    "![corr_m2](assets/corr_m2.png)"
   ]
  },
  {
   "cell_type": "markdown",
   "id": "3576258c",
   "metadata": {},
   "source": [
    "### 6 Correct cell cycle phases"
   ]
  },
  {
   "cell_type": "markdown",
   "id": "003f861b",
   "metadata": {},
   "source": [
    "- __`cls -t <T> -l <L> -f <F>`__ Correct track with ID (T) to cell cycle phase (L) from frame (F) to the next phase transition.\n",
    "\n",
    "- __`cls -t <T> -l <L> -f <F> -e <Fe>`__ Correct from frame (F) to frame (Fe).\n",
    "- __`cls -t <T> -l <L> -f <F> -s`__ Correct the classification at frame (F) _only_.\n",
    "\n",
    "__Note:__ \n",
    "\n",
    "- The legal cell cycle classification is G1, G2, S, M or E. \n",
    "\n",
    "- The per-frame correction does not resolve temporal relationship. It is therefore recommended to resolve the corrected table again, (see [tutorial](hack_in.ipynb)).\n",
    "\n",
    "---"
   ]
  },
  {
   "cell_type": "markdown",
   "id": "c81f8240",
   "metadata": {},
   "source": [
    "There are three ways to correct cell cycle classifications for one track\n",
    "1. Correct single frame\n",
    "2. Correct across a frame range\n",
    "3. Correct until next phase transition (default).\n",
    "\n",
    "Here we illustrate how to correct in a specified range. For `track 21`, we correct the wrong `G2` classification to `S` from `frame 124` to `frame 129`.\n",
    "\n",
    "That is, `cls -t 21 -l S -f 124 -e 129`."
   ]
  },
  {
   "cell_type": "markdown",
   "id": "21ac7a64",
   "metadata": {},
   "source": [
    "![corr_cls](assets/corr_cls.png)"
   ]
  },
  {
   "cell_type": "markdown",
   "id": "3265059b",
   "metadata": {},
   "source": [
    "### 7 Delete tracks"
   ]
  },
  {
   "cell_type": "markdown",
   "id": "17cabc9d",
   "metadata": {},
   "source": [
    "- __`del -t <T>`__ Delete track with ID (T).\n",
    "\n",
    "- __`del -t <T> -f <F>`__ Delete track with ID (T) at time frame (F).\n",
    "\n",
    "&emsp; &emsp; __Warning:__ After deletion, objects will be removed from the table and cannot be added back.\n",
    "\n",
    "---"
   ]
  },
  {
   "cell_type": "markdown",
   "id": "8b249ffa",
   "metadata": {},
   "source": [
    "Here we delete the entire `track 38` as an example. `del -t 38`\n",
    "\n",
    "<img src=\"assets/corr_del.png\"  alt=\"deletion example\" width=500 align=\"middle\"/>"
   ]
  },
  {
   "cell_type": "markdown",
   "id": "929b2ca9",
   "metadata": {},
   "source": [
    "### 8 Modify object masks"
   ]
  },
  {
   "cell_type": "markdown",
   "id": "369b6257",
   "metadata": {},
   "source": [
    "User brush and other tools in the __`segm`__ layer to modify object masks. The modification will be updated every time you save.\n",
    "\n",
    "__Warning:__ Do not leave any object unconnected, which may lead to unpredictable effects.\n",
    "\n",
    "---"
   ]
  },
  {
   "cell_type": "markdown",
   "id": "71617bd0",
   "metadata": {},
   "source": [
    "### 9 Register new objects"
   ]
  },
  {
   "cell_type": "markdown",
   "id": "5cc59195",
   "metadata": {},
   "source": [
    "Similarly, you can create new cell object in the __`segm`__ layer. However, you must draw with __a unique label__.\n",
    "\n",
    "To check available labels, use __`mx -f <F>`__ to check maximum label at frame (F). You can use any label larger than this.\n",
    "\n",
    "After drawing the object mask, register object into the table with:\n",
    "\n",
    "- __`b -o <O> -t <T> -f <F> -l <L>`__ Register object labeled (O) at frame (F) and cell cycle classification (L) to track (T).\n",
    "\n",
    "---"
   ]
  },
  {
   "cell_type": "markdown",
   "id": "3ef1930d",
   "metadata": {},
   "source": [
    "### 10 Other commands\n",
    "\n",
    "- __`wq`__ to save and quit.\n",
    "\n",
    "- __`q`__ to quit without saving.\n",
    "\n",
    "- __`div -p <P> -ds <D1,D2> -f <F>`__ \n",
    "&emsp;(Experimental) In an established mitosis relationship (parent P, daughters D1, D2 comma separated), adjust track ID to the correct cytokinesis time frame (F)."
   ]
  },
  {
   "cell_type": "markdown",
   "id": "029a56ac",
   "metadata": {},
   "source": [
    "---"
   ]
  }
 ],
 "metadata": {
  "kernelspec": {
   "display_name": "Python 3 (ipykernel)",
   "language": "python",
   "name": "python3"
  },
  "language_info": {
   "codemirror_mode": {
    "name": "ipython",
    "version": 3
   },
   "file_extension": ".py",
   "mimetype": "text/x-python",
   "name": "python",
   "nbconvert_exporter": "python",
   "pygments_lexer": "ipython3",
   "version": "3.7.9"
  },
  "varInspector": {
   "cols": {
    "lenName": 16,
    "lenType": 16,
    "lenVar": 40
   },
   "kernels_config": {
    "python": {
     "delete_cmd_postfix": "",
     "delete_cmd_prefix": "del ",
     "library": "var_list.py",
     "varRefreshCmd": "print(var_dic_list())"
    },
    "r": {
     "delete_cmd_postfix": ") ",
     "delete_cmd_prefix": "rm(",
     "library": "var_list.r",
     "varRefreshCmd": "cat(var_dic_list()) "
    }
   },
   "types_to_exclude": [
    "module",
    "function",
    "builtin_function_or_method",
    "instance",
    "_Feature"
   ],
   "window_display": false
  }
 },
 "nbformat": 4,
 "nbformat_minor": 5
}
