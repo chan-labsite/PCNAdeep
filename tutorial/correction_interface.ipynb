{
 "cells": [
  {
   "cell_type": "code",
   "execution_count": 1,
   "id": "63542676",
   "metadata": {},
   "outputs": [],
   "source": [
    "import pandas as pd\n",
    "import os\n",
    "example_root = os.path.join(os.path.dirname(os.path.dirname(os.path.abspath('__file__'))), 'examples')"
   ]
  },
  {
   "cell_type": "markdown",
   "id": "1619c66d",
   "metadata": {},
   "source": [
    "## Manual Correction Interface\n",
    "\n",
    "### Author: Yifan Gui @ Kuan Yoow Chan group\n",
    "\n",
    "pcnaDeep offers a light command line interface for manual correction. This works well together with Fiji visualisation.\n",
    "\n",
    "In this tutorial, we will correct the pcnaDeep output corresponding to the demo data.\n",
    "\n",
    "__Note:__ The interface does not support correction on object masks, or adding new objects."
   ]
  },
  {
   "cell_type": "markdown",
   "id": "e7e24b9b",
   "metadata": {},
   "source": [
    "### 1 Copy tracked object table\n",
    "\n",
    "The correction interface has a collection of functions that operates on the __tracked object table__.  \n",
    "\n",
    "It is highly suggested not to operate on the raw table, which serves as a backup.\n",
    "\n",
    "The file `testing/MCF10A_demo_tracks_refined.csv` is alreadied copied as `MCF10A_demo_tracks_refined_corrected.csv`."
   ]
  },
  {
   "cell_type": "markdown",
   "id": "63636961",
   "metadata": {},
   "source": [
    "### 2 Visualise objects in Fiji using TrackMate\n",
    "\n",
    "Open the composite image file `MCF10A_demo_comp.tif`, and then import `MCF10A_demo_tracks_refined_corrected.csv` to Fiji using TrackMate.\n",
    "\n",
    "&emsp;_See the visualisation section in tutorial [Getting Started](getting_started.ipynb) for details._\n",
    "\n",
    "You should have the view below after successful import.\n",
    "\n",
    "\n",
    "\n",
    "<img src=\"assets/corr_exp.png\"  alt=\"correction example\" width=450 align=\"middle\"/>"
   ]
  },
  {
   "cell_type": "markdown",
   "id": "befad150",
   "metadata": {},
   "source": [
    "### 3 Start the interface by creating a `Trk_obj`"
   ]
  },
  {
   "cell_type": "markdown",
   "id": "6743d560",
   "metadata": {},
   "source": [
    "The following correction will be done by typing commands _here_, or you can use the command line prompt."
   ]
  },
  {
   "cell_type": "code",
   "execution_count": 2,
   "id": "d50e201f",
   "metadata": {},
   "outputs": [
    {
     "name": "stdout",
     "output_type": "stream",
     "text": [
      "@ Correct > r -t1 43 -t2 96 -f 16\n",
      "Replaced/Created track 43 from 16 with new ID 96.\n",
      "@ Correct > cp -p 43 -d 96\n",
      "Parent 43 associated with daughter 96.\n",
      "@ Correct > cp -p 43 -d 61\n",
      "Parent 43 associated with daughter 61.\n",
      "@ Correct > c -t 29 -f 126\n",
      "Replaced/Created track 29 from 126 with new ID 101.\n",
      "@ Correct > cp -p 29 -d 101\n",
      "Parent 29 associated with daughter 101.\n",
      "@ Correct > cp -p 29 -d 89\n",
      "Parent 29 associated with daughter 89.\n",
      "@ Correct > cls -t 21 -l S -f 124 -e 129\n",
      "Classification for track 21 corrected as S from 124 to 129.\n",
      "@ Correct > del -t 38\n",
      "@ Correct > erase\n",
      "@ Correct > q\n"
     ]
    }
   ],
   "source": [
    "from pcnaDeep.correct import Trk_obj\n",
    "c = Trk_obj(os.path.join(example_root, 'demo', 'testing', 'MCF10A_demo_tracks_refined_corrected.csv'))\n",
    "c.doCorrect()"
   ]
  },
  {
   "cell_type": "markdown",
   "id": "62e3932c",
   "metadata": {},
   "source": [
    "---"
   ]
  },
  {
   "cell_type": "markdown",
   "id": "e2f0dd25",
   "metadata": {},
   "source": [
    "### 4 Correct a mitosis mis-association"
   ]
  },
  {
   "cell_type": "markdown",
   "id": "439f1bce",
   "metadata": {},
   "source": [
    "- __`r -t1 <T1> -t2 <T2> -f <F>`__ Replace the ID of track 1 (T1) with the ID of track 2 (T2) from frame (F).\n",
    "\n",
    "    - __Note__ The new track (T2) should not overlap with the old track (T1).\n",
    "\n",
    "- __`cp -p <P> -d <D>`__ Create new mother-daughter relationship between mother (P) and daughter (D).\n",
    "\n",
    "- __`dp -d <D>`__ Dissociate a daughter (D) from its mother. The program will search for its mother automatically.\n",
    "\n",
    "---"
   ]
  },
  {
   "cell_type": "markdown",
   "id": "73c3dda6",
   "metadata": {},
   "source": [
    "In the upper-right part of `frame 15~17`, there is a mis-associated mitosis event. The `track 43` is not associated with its daughter `track 61`  (_pcnaDeep prohibits mother and daughter co-exist in one frame_), although it is associated with the other daughter `track 96`. To correct this, we do the following two steps.\n",
    "\n",
    "1. Replace `track 43` in `frame 16` with `track 96`. That is `r -t1 43 -t2 96 -f 16`.\n",
    "\n",
    "2. Associate mother with its two daughters. `cp -p 43 -d 96`; `cp -p 43 -d 61` (one command at a time)."
   ]
  },
  {
   "cell_type": "markdown",
   "id": "42ab9e07",
   "metadata": {},
   "source": [
    "__Note:__ By combining `r -t1 -t2 -f` and `c -t`, tracking errors can be corrected."
   ]
  },
  {
   "cell_type": "markdown",
   "id": "f8bd5c68",
   "metadata": {},
   "source": [
    "### 5 Save and visualise editing"
   ]
  },
  {
   "cell_type": "markdown",
   "id": "69b4d6c9",
   "metadata": {},
   "source": [
    "Type in __`s`__ for saving the current editing on the object table.\n",
    "\n",
    "To visualise editing, simply press __`Import`__ in `TrackMate CSV Importer` again.\n",
    "\n",
    "You should see the following change before and after correcting the mitosis."
   ]
  },
  {
   "cell_type": "markdown",
   "id": "963d59d7",
   "metadata": {},
   "source": [
    "![corr_m1](assets/corr_m1.png)"
   ]
  },
  {
   "cell_type": "markdown",
   "id": "c7e7233b",
   "metadata": {},
   "source": [
    "__Note:__ You can save every time in the following steps to visualise correction progress."
   ]
  },
  {
   "cell_type": "markdown",
   "id": "d5cbd2e9",
   "metadata": {},
   "source": [
    "### 6 Correct a mitosis mis-detection"
   ]
  },
  {
   "cell_type": "markdown",
   "id": "e0aa28b1",
   "metadata": {},
   "source": [
    "- __`c -t <T> -f <F>`__ Create new ID for track (T) from frame (F). \n",
    "---\n",
    "\n",
    "There is another unlinked mitosis event in `frame 125~127`, where the mother `track 29` is not broken.\n",
    "\n",
    "To break the mitosis `track 29`, we create new ID from the cytokinesis `frame 126`.\n",
    "\n",
    "1. Create new ID for `track 29` from `frame 126`. `c -t 29 -f 126`.\n",
    "\n",
    "&emsp;&emsp; The return message indicates that `track 101` is created. We next associate two daughters with their mother.\n",
    "\n",
    "2. `cp -p 29 -d 101`; `cp -p 29 -d 89`."
   ]
  },
  {
   "cell_type": "markdown",
   "id": "b7eb5067",
   "metadata": {},
   "source": [
    "![corr_m2](assets/corr_m2.png)"
   ]
  },
  {
   "cell_type": "markdown",
   "id": "3576258c",
   "metadata": {},
   "source": [
    "### 7 Correct cell cycle phases"
   ]
  },
  {
   "cell_type": "markdown",
   "id": "003f861b",
   "metadata": {},
   "source": [
    "- __`cls -t <T> -l <L> -f <F>`__ Correct track with ID (T) to cell cycle phase (L) from frame (F) to the next phase transition.\n",
    "\n",
    "- __`cls -t <T> -l <L> -f <F> -e <Fe>`__ Correct from frame (F) to frame (Fe).\n",
    "- __`cls -t <T> -l <L> -f <F> -s`__ Correct the classification at frame (F) _only_.\n",
    "\n",
    "__Note:__ \n",
    "\n",
    "- The legal cell cycle classification is G1, G2, S, M or E. \n",
    "\n",
    "- The per-frame correction does not resolve temporal relationship. It is therefore recommended to resolve the corrected table again, (see [tutorial](hack_in.ipynb)).\n",
    "\n",
    "---"
   ]
  },
  {
   "cell_type": "markdown",
   "id": "c81f8240",
   "metadata": {},
   "source": [
    "There are three ways to correct cell cycle classifications for one track\n",
    "1. Correct single frame\n",
    "2. Correct across a frame range\n",
    "3. Correct until next phase transition (default).\n",
    "\n",
    "Here we illustrate how to correct in a specified range. For `track 21`, we correct the wrong `G2` classification to `S` from `frame 124` to `frame 129`.\n",
    "\n",
    "That is, `cls -t 21 -l S -f 124 -e 129`."
   ]
  },
  {
   "cell_type": "markdown",
   "id": "21ac7a64",
   "metadata": {},
   "source": [
    "![corr_cls](assets/corr_cls.png)"
   ]
  },
  {
   "cell_type": "markdown",
   "id": "3265059b",
   "metadata": {},
   "source": [
    "### 8 Delete tracks"
   ]
  },
  {
   "cell_type": "markdown",
   "id": "17cabc9d",
   "metadata": {},
   "source": [
    "- __`del -t <T>`__ Delete track with ID (T).\n",
    "\n",
    "- __`del -t <T> -f <F>`__ Delete track with ID (T) at time frame (F).\n",
    "\n",
    "&emsp; &emsp; __Warning:__ After deletion, objects will be removed from the table and cannot be added back.\n",
    "\n",
    "---"
   ]
  },
  {
   "cell_type": "markdown",
   "id": "8b249ffa",
   "metadata": {},
   "source": [
    "Here we delete the entire `track 38` as an example. `del -t 38`\n",
    "\n",
    "<img src=\"assets/corr_del.png\"  alt=\"deletion example\" width=500 align=\"middle\"/>"
   ]
  },
  {
   "cell_type": "markdown",
   "id": "bafcdcfa",
   "metadata": {},
   "source": [
    "### 9 Revert editing\n",
    "\n",
    "- __`revert`__ to reset to __last saved version__. \n",
    "\n",
    "- __`erase`__ to reset to the __initial version__.\n",
    "\n",
    "__Note:__ The interface does not support stepwise undo, so it is recommanded to save frequently."
   ]
  },
  {
   "cell_type": "markdown",
   "id": "3ef1930d",
   "metadata": {},
   "source": [
    "### 10 Other commands\n",
    "\n",
    "- __`wq`__ to save and quit.\n",
    "\n",
    "- __`q`__ to quit without saving.\n",
    "\n",
    "- __`div -p <P> -ds <D1,D2> -f <F>`__ \n",
    "&emsp;(Experimental) In an established mitosis relationship (parent P, daughters D1, D2 comma separated), adjust track ID to the correct cytokinesis time frame (F)."
   ]
  },
  {
   "cell_type": "markdown",
   "id": "029a56ac",
   "metadata": {},
   "source": [
    "---"
   ]
  }
 ],
 "metadata": {
  "kernelspec": {
   "display_name": "Python 3",
   "language": "python",
   "name": "python3"
  },
  "language_info": {
   "codemirror_mode": {
    "name": "ipython",
    "version": 3
   },
   "file_extension": ".py",
   "mimetype": "text/x-python",
   "name": "python",
   "nbconvert_exporter": "python",
   "pygments_lexer": "ipython3",
   "version": "3.7.10"
  },
  "varInspector": {
   "cols": {
    "lenName": 16,
    "lenType": 16,
    "lenVar": 40
   },
   "kernels_config": {
    "python": {
     "delete_cmd_postfix": "",
     "delete_cmd_prefix": "del ",
     "library": "var_list.py",
     "varRefreshCmd": "print(var_dic_list())"
    },
    "r": {
     "delete_cmd_postfix": ") ",
     "delete_cmd_prefix": "rm(",
     "library": "var_list.r",
     "varRefreshCmd": "cat(var_dic_list()) "
    }
   },
   "types_to_exclude": [
    "module",
    "function",
    "builtin_function_or_method",
    "instance",
    "_Feature"
   ],
   "window_display": false
  }
 },
 "nbformat": 4,
 "nbformat_minor": 5
}
