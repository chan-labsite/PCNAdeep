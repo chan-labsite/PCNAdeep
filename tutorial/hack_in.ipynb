{
 "cells": [
  {
   "cell_type": "code",
   "execution_count": 1,
   "id": "tutorial-madagascar",
   "metadata": {},
   "outputs": [],
   "source": [
    "import skimage.io as io\n",
    "import pandas as pd\n",
    "import os\n",
    "import logging\n",
    "example_root = os.path.join(os.path.dirname(os.path.dirname(os.path.abspath('__file__'))), 'examples')"
   ]
  },
  {
   "cell_type": "markdown",
   "id": "latest-terrorist",
   "metadata": {},
   "source": [
    "___Set up Logger___"
   ]
  },
  {
   "cell_type": "code",
   "execution_count": 2,
   "id": "subject-speech",
   "metadata": {},
   "outputs": [],
   "source": [
    "logger = logging.getLogger('pcna')\n",
    "logger.setLevel(logging.DEBUG)\n",
    "handler1 = logging.StreamHandler()\n",
    "handler1.setLevel(logging.INFO)\n",
    "logger.addHandler(handler1)"
   ]
  },
  {
   "cell_type": "markdown",
   "id": "correct-reliance",
   "metadata": {},
   "source": [
    "## Hack In Intermediate Steps in pcnaDeep\n",
    "\n",
    "### Author: Yifan Gui @ Kuan Yoow Chan group\n",
    "\n",
    "In this tutorial we discuss:\n",
    "1. Scripts to perform instance segmentation only. You can correct segmentation errors through VIA2 software.\n",
    "2. Approaches to perform downstream analysis from intermediate ground truth files.\n"
   ]
  },
  {
   "cell_type": "markdown",
   "id": "portable-alignment",
   "metadata": {},
   "source": [
    "### 1 Perform Instance Segmentation only"
   ]
  },
  {
   "cell_type": "markdown",
   "id": "stuffed-theme",
   "metadata": {},
   "source": [
    "The script `bin/detect.py` is dedicated for such purpose. It can output VIA2-readable `json` file of the instance segmentation result.\n",
    "\n",
    "Use the following command to run on demo data. This will generate a file named `MCF10A_demo.json` (37MB) under `examples/intermediate` folder."
   ]
  },
  {
   "cell_type": "markdown",
   "id": "solid-determination",
   "metadata": {},
   "source": [
    "`python detect.py --pcna ../examples/demo/MCF10A_demo_PCNA.tif --bf ../examples/demo/MCF10A_demo_BF.tif --config-file ../config/dtrnCfg.yaml --output ../examples/intermediate/ --prefix MCF10A_demo --sat 1 --gamma 1 --opts MODEL.WEIGHTS ../models/mrcnn_sat_rot_aug.pth`"
   ]
  },
  {
   "cell_type": "markdown",
   "id": "caroline-jacob",
   "metadata": {},
   "source": [
    "#### Command line parameters\n",
    "\n",
    "- __`--bf`__, __`--pcna`__ Path to the bright field and PCNA fluorescent image files.\n",
    "- __`--sat`__, __`--gamma`__ The pre-processing parameters, i.e., pixel saturation and gamma correction factor. Default 1 for both.\n",
    "- __`--prefix`__ The prefix of image name in the `json` output.\n",
    "    - The image file name will be like `prefix-0001.png` in the `json`. You should save image files for labeling in the same way, so that VIA2 knows the image identity. You may find `pcnaDeep.data.utils.save_seq` function useful, as explained in the [Mask R-CNN training tutorial](train_pcna_detectron2.ipynb) (also check out this tutorial for importing `json` into the VIA2 software).\n",
    "- __`--config-file`__ Path to Detectron2 config file. Default `dtrnCfg.yaml`.\n",
    "- __`--confidence-threshold`__, __`--opts`__ Same as the main application, see [Getting Started](getting_started.ipynb)."
   ]
  },
  {
   "cell_type": "markdown",
   "id": "seventh-composition",
   "metadata": {},
   "source": [
    "---\n",
    "\n",
    "### 2 Begin from detection (instance segmentation) ground truth"
   ]
  },
  {
   "cell_type": "markdown",
   "id": "immediate-producer",
   "metadata": {},
   "source": [
    "The detection ground truth is embodied as `json` file. To track and resolved from this ground truth, we can use `pcnaDeep.tracker.track_GT_json`. "
   ]
  },
  {
   "cell_type": "code",
   "execution_count": 3,
   "id": "united-rouge",
   "metadata": {},
   "outputs": [
    {
     "name": "stdout",
     "output_type": "stream",
     "text": [
      "Help on function track_GT_json in module pcnaDeep.tracker:\n",
      "\n",
      "track_GT_json(fp_json, height=1200, width=1200, displace=40, gap_fill=5, size_min=100, fp_intensity_image=None, fp_pcna=None, fp_bf=None, sat=None, gamma=None)\n",
      "    Track ground truth VIA json file. Wrapper of `track_mask()`\n",
      "    \n",
      "    Args:\n",
      "        fp_json (str): file path to the json file.\n",
      "        height (int): pixel height of the mask corresponding to GT json.\n",
      "        width (int): pixel width of the mask corresponding to GT json.\n",
      "        displace (int): distance restriction, see `track()`.\n",
      "        gap_fill (int): time restriction, see `track()`.\n",
      "        size_min (int): remove object smaller then some size, in case the mask labeling is not precise.\n",
      "        fp_intensity_image (str): optional image file path, if supplied, will extract fore/backgound PCNA intensity, and\n",
      "            bright field intensity/std for tracking.\n",
      "            Must has the same shape as mask, so will override height and width.\n",
      "        fp_pcna (str): optional file path to PCNA channel image stack.\n",
      "        fp_bf (str): optional file path to bright field image stack.\n",
      "        sat (float): saturated pixel percentage when rescaling intensity image. If `None`, no rescaling will be done.\n",
      "        gamma (float): gamma-correction factor. If `None`, will not perform.\n",
      "    \n",
      "    Returns:\n",
      "        (pandas.DataFrame): tracked object table.\n",
      "        (mask_lbd): mask with each frame labeled with object IDs.\n",
      "    \n",
      "    Note:\n",
      "        - If supplied with `fp_intensity_image` (composite image stack), will omit `fp_pcna` or `fp_bf`.\n",
      "        - `fp_pcna` and `fp_bf` must be supplied at the same time.\n",
      "\n"
     ]
    }
   ],
   "source": [
    "from pcnaDeep.tracker import track_GT_json\n",
    "from pcnaDeep.refiner import Refiner\n",
    "from pcnaDeep.resolver import Resolver\n",
    "help(track_GT_json)"
   ]
  },
  {
   "cell_type": "markdown",
   "id": "dutch-daisy",
   "metadata": {},
   "source": [
    "_Note:_ Because we are working with the ground truth, we set all thresholds related to the Greedy Phase Searching to 1.\n",
    "\n",
    "The following code will generate a __`tracked object table`__ named `refined.csv` for following analysis. When making ground truth, it is practical to check `phase.csv` to see if there are any faulty phases (usually indicates wrong tracking).\n",
    "\n",
    "You can correct the `refined.csv` trough the command line interface (see [video guide]())."
   ]
  },
  {
   "cell_type": "code",
   "execution_count": 4,
   "id": "forty-cradle",
   "metadata": {},
   "outputs": [
    {
     "name": "stdout",
     "output_type": "stream",
     "text": [
      "Frame 134: 66 trajectories present.\n"
     ]
    },
    {
     "name": "stderr",
     "output_type": "stream",
     "text": [
      "{'sample_freq': 0.2, 'meanDisplace': 3.8771039587878553}\n",
      "Mean size: 85.14517272839825\n",
      "Object classification corrected by smoothing: 11\n",
      "Level 1 mitosis:\n",
      "Found mitosis track: 12\n",
      "Level 2 mitosis:\n",
      "Found mitosis track: 0\n",
      "High quality tracks subjected to predict relationship: 86\n",
      "Extracting features...\n",
      "100%|██████████████████████████████████████████████████████████████████████████████████| 21/21 [00:03<00:00,  5.46it/s]\n",
      "Finished feature extraction: 153 samples.\n",
      "Finished prediction.\n",
      "Register: 22-61\n",
      "Register: 31-71\n",
      "Register: 36-73\n",
      "Register: 38-79\n",
      "Register: 42-60\n",
      "Register: 48-63\n",
      "Register: 56-75\n",
      "Register: 59-77\n",
      "Parent-Daughter-Daughter mitosis relations found: 8\n",
      "Parent-Daughter mitosis relations found: 4\n",
      "Imprecise tracks involved in prediction: 0\n",
      "Resolving cell cycle phase...\n"
     ]
    },
    {
     "name": "stdout",
     "output_type": "stream",
     "text": [
      "Phase not resolved yet. Using predicted phase classifications.\n"
     ]
    }
   ],
   "source": [
    "fp_json = os.path.join(example_root, 'intermediate', 'MCF10A_demo_GT.json')\n",
    "fp_pcna = os.path.join(example_root, 'demo', 'MCF10A_demo_PCNA.tif')\n",
    "fp_bf = os.path.join(example_root, 'demo', 'MCF10A_demo_BF.tif')\n",
    "table, mask = track_GT_json(fp_json=fp_json, fp_pcna=fp_pcna, fp_bf=fp_bf, displace=120, gap_fill=10,\n",
    "                            sat=1, gamma=1)\n",
    "io.imsave(os.path.join(example_root, 'intermediate', 'mask.tif'), mask)\n",
    "\n",
    "table.to_csv(os.path.join(example_root, 'intermediate', 'raw_object.csv'), index=False)\n",
    "r = Refiner(track=table, mode='TRH', search_range=10, minM=1, maxBG=1, sample_freq=1 / 5,\n",
    "            threshold_mt_F=100, threshold_mt_T=20)\n",
    "ann, track_rfd, mt_dic, imprecise = r.doTrackRefine()\n",
    "s = Resolver(track_rfd, ann, mt_dic, maxBG=1, minS=1, minM=1, minLineage=10, impreciseExit=imprecise)\n",
    "out = s.doResolve()\n",
    "out[0].to_csv(os.path.join(example_root, 'intermediate', 'refined.csv'), index=False)\n",
    "out[1].to_csv(os.path.join(example_root, 'intermediate', 'phase.csv'), index=False)"
   ]
  },
  {
   "cell_type": "markdown",
   "id": "federal-chance",
   "metadata": {},
   "source": [
    "---\n",
    "\n",
    "### 3 Re-resolve the corrected object table"
   ]
  },
  {
   "cell_type": "markdown",
   "id": "fifth-religious",
   "metadata": {},
   "source": [
    "Suppose we have corrected the __`tracked object table`__. Since the correction is on _object level_ rather than _track level_, there will be unresolved cell cycle phases. To resolve again, use `pcnaDeep.resolver.resolve_from_gt`"
   ]
  },
  {
   "cell_type": "code",
   "execution_count": 5,
   "id": "average-spring",
   "metadata": {},
   "outputs": [
    {
     "name": "stdout",
     "output_type": "stream",
     "text": [
      "Help on function resolve_from_gt in module pcnaDeep.resolver:\n",
      "\n",
      "resolve_from_gt(track, gt_name='predicted_class', extra_gt=None, G2_trh=None, no_cls_GT=False, minG=1, minS=1, minM=1, minLineage=0)\n",
      "    Resolve cell cycle phase from the ground truth. Wrapper of `get_rsv_input_gt()`.\n",
      "    \n",
      "    Args:\n",
      "        track (pandas.DataFrame): data frame of each object each row, must have following columns:\n",
      "            - trackId, frame, parentTrackId, <ground truth classification column>\n",
      "        gt_name (str): refers to the column in track that corresponds to ground truth classification.\n",
      "        extra_gt (str): refers to the column in track that has G2 ground truth if `gt_name` does not. See notes below.\n",
      "        G2_trh (int): intensity threshold for classifying G2 phase (for arrest tracks only).\n",
      "        no_cls_GT (bool): Set to `true` if no classification ground truth is provided.\n",
      "            Will resolve based on current classifications.\n",
      "        minG (int): minimum G phase frame length (default 1).\n",
      "        minS (int): minimum S phase frame length (default 1).\n",
      "        minM (int): minimum M phase frame length (default 1).\n",
      "        minLineage (int): minimum lineage frame length to resolve (default 0, resolve all tracks).\n",
      "    \n",
      "    Note:\n",
      "        - If do not want G2 to be classified based on thresholding, rather, based on ground truth classification.\n",
      "        Simply leave `G2_trh=None` and the threshold will be calculated as the smallest average intensity of G2 phase\n",
      "        in labeled tracks (outlier smaller than mena - 3*sd excluded).\n",
      "    \n",
      "        - If the ground truth column does not contain `G2` instances, tell the program to look at\n",
      "        an extra partially G2 ground truth column like `resolved_class` to extract information. This may be useful when\n",
      "        `predicted_class` has been corrected from the Correction Interface which only contains G1/G2 but not G2. In this\n",
      "        case, you can also assign `resolved_class` as the ground truth classification column. Both will work.\n",
      "    \n",
      "        - If `mean_intensity` or `background_mean` column is not in the table, will set the threshold to 100.\n",
      "    \n",
      "        - Use at own risk if the input classification in not reliable.\n",
      "\n"
     ]
    }
   ],
   "source": [
    "from pcnaDeep.resolver import resolve_from_gt\n",
    "help(resolve_from_gt)"
   ]
  },
  {
   "cell_type": "code",
   "execution_count": 6,
   "id": "funded-riding",
   "metadata": {},
   "outputs": [
    {
     "name": "stderr",
     "output_type": "stream",
     "text": [
      "Resolving cell cycle phase...\n"
     ]
    },
    {
     "name": "stdout",
     "output_type": "stream",
     "text": [
      "Using G2 intensity threshold: 100\n"
     ]
    }
   ],
   "source": [
    "track = pd.read_csv(os.path.join(example_root, 'intermediate', 'refined_corrected.csv'))\n",
    "out = resolve_from_gt(track, no_cls_GT=False, gt_name='resolved_class', G2_trh=100, minLineage=10)\n",
    "out[0].to_csv(os.path.join(example_root, 'intermediate', 'refined_corrected_resolved.csv'), index=False)\n",
    "out[1].to_csv(os.path.join(example_root, 'intermediate', 'refined_corrected_phase.csv'), index=False)"
   ]
  }
 ],
 "metadata": {
  "kernelspec": {
   "display_name": "Python 3",
   "language": "python",
   "name": "python3"
  },
  "language_info": {
   "codemirror_mode": {
    "name": "ipython",
    "version": 3
   },
   "file_extension": ".py",
   "mimetype": "text/x-python",
   "name": "python",
   "nbconvert_exporter": "python",
   "pygments_lexer": "ipython3",
   "version": "3.7.10"
  },
  "varInspector": {
   "cols": {
    "lenName": 16,
    "lenType": 16,
    "lenVar": 40
   },
   "kernels_config": {
    "python": {
     "delete_cmd_postfix": "",
     "delete_cmd_prefix": "del ",
     "library": "var_list.py",
     "varRefreshCmd": "print(var_dic_list())"
    },
    "r": {
     "delete_cmd_postfix": ") ",
     "delete_cmd_prefix": "rm(",
     "library": "var_list.r",
     "varRefreshCmd": "cat(var_dic_list()) "
    }
   },
   "types_to_exclude": [
    "module",
    "function",
    "builtin_function_or_method",
    "instance",
    "_Feature"
   ],
   "window_display": false
  }
 },
 "nbformat": 4,
 "nbformat_minor": 5
}
