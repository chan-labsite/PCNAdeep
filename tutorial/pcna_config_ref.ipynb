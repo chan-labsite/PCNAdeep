{
 "cells": [
  {
   "cell_type": "markdown",
   "id": "noted-valentine",
   "metadata": {},
   "source": [
    "### Default pcnaCfg.yaml file"
   ]
  },
  {
   "cell_type": "markdown",
   "id": "painful-headquarters",
   "metadata": {},
   "source": [
    "```\n",
    "BATCH: false           # Batch mode switch.\n",
    "PIX_SATURATE: 1        # Percent pixel saturation to pre-process the image.\n",
    "GAMMA: 1               # Gamma factor to pre-process the image.\n",
    "EDGE_FLT: 10           # Ignore objects at the edge (pixel unit).\n",
    "SIZE_FLT: 800          # Filter out detection with size below this (pixel count).\n",
    "TRACKER:\n",
    "  DISPLACE: 80         # Maximum movement of particles between consecutive frames in (x, y, bright field intensity) space.\n",
    "  GAP_FILL: 10         # Maximum gap to fill.\n",
    "POST_PROCESS:\n",
    "  MAX_BG: 5            # Maximum background classification accumulative scores to reject a period.\n",
    "  MIN_S: 5             # Minimum S classification accumulative scores to accept S phase.\n",
    "  MIN_M: 5             # Minimum M classification accumulative scores to accept M phase.\n",
    "  REFINER:\n",
    "    SMOOTH: 5          # Sliding window to smooth classification scores.\n",
    "    SAMPLE_FREQ: 0.2   # Metadata, sampling frequency in frame per minute.\n",
    "    SEARCH_RANGE: 10   # Range of searching M/E classification for defining candidate mother/daughter tracks.\n",
    "\n",
    "    MASK_CONSTRAINT:\n",
    "      ENABLED: false\n",
    "      DILATE_FACTOR: 0.5\n",
    "\n",
    "    MODE: TRH          # Mitosis association mode, either TRH (threshold-based) or SVM (require training data).\n",
    "    # TRH mode only\n",
    "    MAX_DIST_TRH: 120  # Maximum distance allowed for valid mother/daughter pair.\n",
    "    MAX_FRAME_TRH: 10  # Maximum frame gap between mother disappearance and daughter appearance.\n",
    "    DIST_WEIGHT: 0.5   # Weight of distance penalty, the weight for frame with be `1-DIST_WEIGHT`. \n",
    "    # SVM mode only\n",
    "    ASO_TRH: 0.5       # Threshold filter on SVM confidence score.\n",
    "    C: 13              # C parameter for linear kernel SVM.\n",
    "    SVM_TRAIN_DATA: '../models/SVM_train.txt'  # Path to SVM training data.\n",
    "  RESOLVER:\n",
    "    MIN_LINEAGE: 10    # Minimum lineage length to be recorded in the `phase` table output.\n",
    "    G2_TRH: 100        # For arrested G1/G2 tracks, over-threshold tracks will be classified as G2.\n",
    "\n",
    "### EXPERIMENT ONLY. DO NOT CHANGE.\n",
    "SPLIT:\n",
    "  GRID: 0\n",
    "  EDGE_WIDTH: 20\n",
    "  DILATE_ROUND: 3\n",
    "```"
   ]
  }
 ],
 "metadata": {
  "kernelspec": {
   "display_name": "Python 3",
   "language": "python",
   "name": "python3"
  },
  "language_info": {
   "codemirror_mode": {
    "name": "ipython",
    "version": 3
   },
   "file_extension": ".py",
   "mimetype": "text/x-python",
   "name": "python",
   "nbconvert_exporter": "python",
   "pygments_lexer": "ipython3",
   "version": "3.7.10"
  }
 },
 "nbformat": 4,
 "nbformat_minor": 5
}
