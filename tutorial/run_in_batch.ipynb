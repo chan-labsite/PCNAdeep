{
 "cells": [
  {
   "cell_type": "markdown",
   "id": "affected-poison",
   "metadata": {},
   "source": [
    "## Run pcnaDeep In Batch\n",
    "\n",
    "### Author: Yifan Gui @ Kuan Yoow Chan group"
   ]
  },
  {
   "cell_type": "markdown",
   "id": "welcome-collector",
   "metadata": {},
   "source": [
    "To run in batch mode, first change `BATCH` in `pcnaCfg.yaml` from `false` to `true`.\n",
    "\n",
    "Then, organize the directory as the following,\n",
    "\n",
    "|---ROOT----  \n",
    "    &emsp;|---PCNA---  \n",
    "    &emsp;&emsp;|---RPE_01_PCNA.tif  \n",
    "    &emsp;&emsp;|---RPE_02_PCNA.tif  \n",
    "    &emsp;|----BF----  \n",
    "        &emsp;&emsp;|---RPE_01_BF.tif  \n",
    "        &emsp;&emsp;|---RPE_02_BF.tif  \n",
    "        \n",
    "The `PCNA` and `BF` must be labeled as suffix, case insensitive.\n",
    "\n",
    "When running `main.py`, instead of specifying image stacks, use `--pcna` and `--bf` to point the above two directories.\n",
    "\n",
    "Similarly, `--output` should be changed to the root output directory. For example, by setting `--output out_root`, the result file structure will be:\n",
    "\n",
    "|---ROOT----  \n",
    "    &emsp;|---RPE_01---  \n",
    "    &emsp;&emsp;|---_(results)_  \n",
    "    &emsp;|----RPE_02----  \n",
    "     &emsp;&emsp;|---_(results)_ "
   ]
  }
 ],
 "metadata": {
  "kernelspec": {
   "display_name": "Python 3",
   "language": "python",
   "name": "python3"
  },
  "language_info": {
   "codemirror_mode": {
    "name": "ipython",
    "version": 3
   },
   "file_extension": ".py",
   "mimetype": "text/x-python",
   "name": "python",
   "nbconvert_exporter": "python",
   "pygments_lexer": "ipython3",
   "version": "3.7.10"
  }
 },
 "nbformat": 4,
 "nbformat_minor": 5
}
